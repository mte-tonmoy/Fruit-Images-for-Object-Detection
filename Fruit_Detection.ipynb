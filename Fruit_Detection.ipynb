{
  "nbformat": 4,
  "nbformat_minor": 0,
  "metadata": {
    "colab": {
      "name": "Fruit Detection.ipynb",
      "provenance": [],
      "collapsed_sections": [],
      "include_colab_link": true
    },
    "kernelspec": {
      "name": "python3",
      "display_name": "Python 3"
    },
    "language_info": {
      "name": "python"
    }
  },
  "cells": [
    {
      "cell_type": "markdown",
      "metadata": {
        "id": "view-in-github",
        "colab_type": "text"
      },
      "source": [
        "<a href=\"https://colab.research.google.com/github/mte-tonmoy/Fruit-Images-for-Object-Detection/blob/main/Fruit_Detection.ipynb\" target=\"_parent\"><img src=\"https://colab.research.google.com/assets/colab-badge.svg\" alt=\"Open In Colab\"/></a>"
      ]
    },
    {
      "cell_type": "markdown",
      "source": [
        "# Dataset : [Fruit Images for Object Detection](https://www.kaggle.com/datasets/mbkinaci/fruit-images-for-object-detection)"
      ],
      "metadata": {
        "id": "PEce6EMclxVY"
      }
    },
    {
      "cell_type": "code",
      "source": [
        "from google.colab import drive\n",
        "drive.mount('/content/drive')"
      ],
      "metadata": {
        "id": "D7LuI39uVU4s",
        "colab": {
          "base_uri": "https://localhost:8080/"
        },
        "outputId": "bbfc6e45-f083-40e9-83a1-9ccc182a34c9"
      },
      "execution_count": null,
      "outputs": [
        {
          "output_type": "stream",
          "name": "stdout",
          "text": [
            "Drive already mounted at /content/drive; to attempt to forcibly remount, call drive.mount(\"/content/drive\", force_remount=True).\n"
          ]
        }
      ]
    },
    {
      "cell_type": "code",
      "execution_count": null,
      "metadata": {
        "id": "5um_HKyqRvgY"
      },
      "outputs": [],
      "source": [
        "import numpy as np \n",
        "import pandas as pd \n",
        "import os\n",
        "import matplotlib.pyplot as plt\n",
        "import cv2\n",
        "from tensorflow.keras.utils import to_categorical\n",
        "from keras.layers import Dense,Conv2D,Flatten,MaxPool2D,Dropout\n",
        "from keras.models import Sequential\n",
        "from sklearn.model_selection import train_test_split\n",
        "np.random.seed(1)"
      ]
    },
    {
      "cell_type": "code",
      "source": [
        "train_images = []       \n",
        "train_labels = []\n",
        "shape = (200,200)  \n",
        "train_path = '/content/drive/MyDrive/Final Project Dmml/train_zip/train'\n",
        "count=0\n",
        "for filename in os.listdir('/content/drive/MyDrive/Final Project Dmml/train_zip/train'):\n",
        "\n",
        "    print(count,' = ',filename)\n",
        "    if filename.split('.')[1] == 'jpg':\n",
        "        img = cv2.imread(os.path.join(train_path,filename))\n",
        "        \n",
        "    \n",
        "        train_labels.append(filename.split('_')[0])\n",
        "        \n",
        "       \n",
        "        img = cv2.resize(img,shape)\n",
        "        \n",
        "        train_images.append(img)\n",
        "    count+=1\n",
        "\n",
        "\n",
        "train_labels = pd.get_dummies(train_labels).values\n",
        "\n",
        "\n",
        "train_images = np.array(train_images)\n",
        "\n",
        "\n",
        "x_train,x_val,y_train,y_val = train_test_split(train_images,train_labels,random_state=1)"
      ],
      "metadata": {
        "id": "t_1SW_uoR2ct",
        "colab": {
          "base_uri": "https://localhost:8080/"
        },
        "outputId": "308e1fb9-05c5-4208-c888-5c61ff3ab07f"
      },
      "execution_count": null,
      "outputs": [
        {
          "output_type": "stream",
          "name": "stdout",
          "text": [
            "0  =  apple_42.jpg\n",
            "1  =  apple_68.jpg\n",
            "2  =  apple_48.jpg\n",
            "3  =  apple_72.jpg\n",
            "4  =  apple_61.jpg\n",
            "5  =  apple_5.jpg\n",
            "6  =  apple_2.jpg\n",
            "7  =  apple_33.jpg\n",
            "8  =  apple_36.jpg\n",
            "9  =  apple_10.jpg\n",
            "10  =  apple_73.jpg\n",
            "11  =  apple_47.jpg\n",
            "12  =  apple_37.jpg\n",
            "13  =  apple_17.jpg\n",
            "14  =  apple_16.jpg\n",
            "15  =  apple_53.jpg\n",
            "16  =  apple_66.jpg\n",
            "17  =  apple_60.jpg\n",
            "18  =  apple_12.jpg\n",
            "19  =  apple_69.jpg\n",
            "20  =  apple_59.jpg\n",
            "21  =  apple_55.jpg\n",
            "22  =  apple_3.jpg\n",
            "23  =  apple_41.jpg\n",
            "24  =  apple_9.jpg\n",
            "25  =  apple_40.jpg\n",
            "26  =  apple_27.jpg\n",
            "27  =  apple_46.jpg\n",
            "28  =  apple_4.jpg\n",
            "29  =  apple_62.jpg\n",
            "30  =  apple_52.jpg\n",
            "31  =  apple_24.jpg\n",
            "32  =  apple_31.jpg\n",
            "33  =  apple_58.jpg\n",
            "34  =  apple_51.jpg\n",
            "35  =  apple_67.jpg\n",
            "36  =  apple_26.jpg\n",
            "37  =  apple_29.jpg\n",
            "38  =  apple_11.jpg\n",
            "39  =  apple_28.jpg\n",
            "40  =  apple_76.jpg\n",
            "41  =  apple_50.jpg\n",
            "42  =  apple_23.jpg\n",
            "43  =  apple_18.jpg\n",
            "44  =  apple_57.jpg\n",
            "45  =  apple_74.jpg\n",
            "46  =  apple_6.jpg\n",
            "47  =  apple_22.jpg\n",
            "48  =  apple_49.jpg\n",
            "49  =  apple_8.jpg\n",
            "50  =  apple_15.jpg\n",
            "51  =  apple_75.jpg\n",
            "52  =  apple_64.jpg\n",
            "53  =  apple_56.jpg\n",
            "54  =  apple_7.jpg\n",
            "55  =  apple_65.jpg\n",
            "56  =  apple_44.jpg\n",
            "57  =  apple_70.jpg\n",
            "58  =  apple_63.jpg\n",
            "59  =  apple_14.jpg\n",
            "60  =  apple_39.jpg\n",
            "61  =  apple_20.jpg\n",
            "62  =  apple_38.jpg\n",
            "63  =  apple_30.jpg\n",
            "64  =  apple_1.jpg\n",
            "65  =  apple_71.jpg\n",
            "66  =  apple_43.jpg\n",
            "67  =  apple_54.jpg\n",
            "68  =  apple_45.jpg\n",
            "69  =  apple_32.jpg\n",
            "70  =  apple_13.jpg\n",
            "71  =  apple_25.jpg\n",
            "72  =  apple_35.jpg\n",
            "73  =  apple_19.jpg\n",
            "74  =  apple_21.jpg\n",
            "75  =  orange_7.jpg\n",
            "76  =  orange_54.jpg\n",
            "77  =  orange_36.jpg\n",
            "78  =  orange_10.jpg\n",
            "79  =  orange_20.jpg\n",
            "80  =  orange_37.jpg\n",
            "81  =  orange_51.jpg\n",
            "82  =  orange_58.jpg\n",
            "83  =  orange_61.jpg\n",
            "84  =  orange_63.jpg\n",
            "85  =  orange_64.jpg\n",
            "86  =  orange_68.jpg\n",
            "87  =  orange_69.jpg\n",
            "88  =  orange_71.jpg\n",
            "89  =  orange_72.jpg\n",
            "90  =  orange_74.jpg\n",
            "91  =  orange_75.jpg\n",
            "92  =  orange_76.jpg\n",
            "93  =  orange_24.jpg\n",
            "94  =  orange_47.jpg\n",
            "95  =  orange_70.jpg\n",
            "96  =  orange_28.jpg\n",
            "97  =  orange_40.jpg\n",
            "98  =  orange_52.jpg\n",
            "99  =  orange_60.jpg\n",
            "100  =  orange_8.jpg\n",
            "101  =  orange_11.jpg\n",
            "102  =  orange_9.jpg\n",
            "103  =  orange_13.jpg\n",
            "104  =  orange_15.jpg\n",
            "105  =  orange_16.jpg\n",
            "106  =  orange_17.jpg\n",
            "107  =  orange_18.jpg\n",
            "108  =  orange_22.jpg\n",
            "109  =  orange_21.jpg\n",
            "110  =  orange_25.jpg\n",
            "111  =  orange_27.jpg\n",
            "112  =  orange_29.jpg\n",
            "113  =  orange_31.jpg\n",
            "114  =  orange_30.jpg\n",
            "115  =  orange_33.jpg\n",
            "116  =  orange_35.jpg\n",
            "117  =  orange_41.jpg\n",
            "118  =  orange_42.jpg\n",
            "119  =  orange_43.jpg\n",
            "120  =  orange_44.jpg\n",
            "121  =  orange_48.jpg\n",
            "122  =  orange_49.jpg\n",
            "123  =  orange_53.jpg\n",
            "124  =  orange_55.jpg\n",
            "125  =  orange_57.jpg\n",
            "126  =  banana_39.jpg\n",
            "127  =  banana_56.jpg\n",
            "128  =  banana_34.jpg\n",
            "129  =  banana_1.jpg\n",
            "130  =  banana_11.jpg\n",
            "131  =  banana_20.jpg\n",
            "132  =  banana_26.jpg\n",
            "133  =  banana_28.jpg\n",
            "134  =  banana_32.jpg\n",
            "135  =  banana_40.jpg\n",
            "136  =  banana_44.jpg\n",
            "137  =  banana_47.jpg\n",
            "138  =  banana_48.jpg\n",
            "139  =  banana_58.jpg\n",
            "140  =  banana_55.jpg\n",
            "141  =  banana_66.jpg\n",
            "142  =  banana_64.jpg\n",
            "143  =  banana_68.jpg\n",
            "144  =  banana_69.jpg\n",
            "145  =  banana_70.jpg\n",
            "146  =  banana_71.jpg\n",
            "147  =  banana_72.jpg\n",
            "148  =  banana_73.jpg\n",
            "149  =  banana_75.jpg\n",
            "150  =  banana_74.jpg\n",
            "151  =  banana_76.jpg\n",
            "152  =  banana_23.jpg\n",
            "153  =  banana_12.jpg\n",
            "154  =  banana_45.jpg\n",
            "155  =  banana_67.jpg\n",
            "156  =  banana_3.jpg\n",
            "157  =  banana_2.jpg\n",
            "158  =  banana_4.jpg\n",
            "159  =  banana_5.jpg\n",
            "160  =  banana_6.jpg\n",
            "161  =  banana_8.jpg\n",
            "162  =  banana_7.jpg\n",
            "163  =  banana_10.jpg\n",
            "164  =  banana_13.jpg\n",
            "165  =  banana_9.jpg\n",
            "166  =  banana_14.jpg\n",
            "167  =  banana_16.jpg\n",
            "168  =  banana_17.jpg\n",
            "169  =  banana_21.jpg\n",
            "170  =  banana_22.jpg\n",
            "171  =  banana_25.jpg\n",
            "172  =  banana_24.jpg\n",
            "173  =  banana_27.jpg\n",
            "174  =  banana_29.jpg\n",
            "175  =  banana_30.jpg\n",
            "176  =  banana_33.jpg\n",
            "177  =  banana_31.jpg\n",
            "178  =  banana_36.jpg\n",
            "179  =  banana_35.jpg\n",
            "180  =  banana_41.jpg\n",
            "181  =  banana_38.jpg\n",
            "182  =  banana_37.jpg\n",
            "183  =  banana_42.jpg\n",
            "184  =  banana_43.jpg\n",
            "185  =  banana_46.jpg\n",
            "186  =  banana_49.jpg\n",
            "187  =  banana_50.jpg\n",
            "188  =  banana_51.jpg\n",
            "189  =  orange_12.jpg\n",
            "190  =  orange_1.jpg\n",
            "191  =  orange_26.jpg\n",
            "192  =  banana_52.jpg\n",
            "193  =  orange_23.jpg\n",
            "194  =  orange_46.jpg\n",
            "195  =  orange_59.jpg\n",
            "196  =  orange_50.jpg\n",
            "197  =  orange_38.jpg\n",
            "198  =  orange_62.jpg\n",
            "199  =  orange_4.jpg\n",
            "200  =  orange_73.jpg\n",
            "201  =  orange_56.jpg\n",
            "202  =  orange_67.jpg\n",
            "203  =  banana_53.jpg\n",
            "204  =  orange_2.jpg\n",
            "205  =  banana_54.jpg\n",
            "206  =  orange_3.jpg\n",
            "207  =  orange_5.jpg\n",
            "208  =  banana_57.jpg\n",
            "209  =  orange_34.jpg\n",
            "210  =  orange_6.jpg\n",
            "211  =  orange_32.jpg\n",
            "212  =  orange_19.jpg\n",
            "213  =  banana_59.jpg\n",
            "214  =  orange_14.jpg\n",
            "215  =  banana_60.jpg\n",
            "216  =  banana_62.jpg\n",
            "217  =  banana_61.jpg\n",
            "218  =  banana_63.jpg\n",
            "219  =  banana_65.jpg\n",
            "220  =  mixed_13.jpg\n",
            "221  =  mixed_1.jpg\n",
            "222  =  mixed_10.jpg\n",
            "223  =  mixed_12.jpg\n",
            "224  =  mixed_15.jpg\n",
            "225  =  mixed_2.jpg\n",
            "226  =  mixed_7.jpg\n",
            "227  =  mixed_9.jpg\n",
            "228  =  mixed_6.jpg\n",
            "229  =  mixed_11.jpg\n",
            "230  =  mixed_14.jpg\n",
            "231  =  mixed_16.jpg\n",
            "232  =  mixed_17.jpg\n",
            "233  =  mixed_18.jpg\n",
            "234  =  mixed_19.jpg\n",
            "235  =  mixed_3.jpg\n",
            "236  =  mixed_4.jpg\n",
            "237  =  mixed_20.jpg\n",
            "238  =  mixed_5.jpg\n",
            "239  =  mixed_8.jpg\n",
            "240  =  apple_1.xml\n",
            "241  =  apple_10.xml\n",
            "242  =  apple_11.xml\n",
            "243  =  apple_12.xml\n",
            "244  =  apple_13.xml\n",
            "245  =  apple_14.xml\n",
            "246  =  apple_15.xml\n",
            "247  =  apple_16.xml\n",
            "248  =  apple_17.xml\n",
            "249  =  apple_18.xml\n",
            "250  =  apple_19.xml\n",
            "251  =  apple_2.xml\n",
            "252  =  apple_20.xml\n",
            "253  =  apple_21.xml\n",
            "254  =  apple_22.xml\n",
            "255  =  apple_23.xml\n",
            "256  =  apple_24.xml\n",
            "257  =  apple_25.xml\n",
            "258  =  apple_26.xml\n",
            "259  =  apple_27.xml\n",
            "260  =  apple_28.xml\n",
            "261  =  apple_29.xml\n",
            "262  =  apple_3.xml\n",
            "263  =  apple_30.xml\n",
            "264  =  apple_31.xml\n",
            "265  =  apple_32.xml\n",
            "266  =  apple_33.xml\n",
            "267  =  apple_35.xml\n",
            "268  =  apple_36.xml\n",
            "269  =  apple_37.xml\n",
            "270  =  apple_38.xml\n",
            "271  =  apple_39.xml\n",
            "272  =  apple_4.xml\n",
            "273  =  apple_40.xml\n",
            "274  =  apple_41.xml\n",
            "275  =  apple_42.xml\n",
            "276  =  apple_43.xml\n",
            "277  =  apple_44.xml\n",
            "278  =  apple_45.xml\n",
            "279  =  apple_46.xml\n",
            "280  =  apple_47.xml\n",
            "281  =  apple_48.xml\n",
            "282  =  apple_49.xml\n",
            "283  =  apple_5.xml\n",
            "284  =  apple_50.xml\n",
            "285  =  apple_51.xml\n",
            "286  =  apple_52.xml\n",
            "287  =  apple_53.xml\n",
            "288  =  apple_54.xml\n",
            "289  =  apple_55.xml\n",
            "290  =  apple_56.xml\n",
            "291  =  apple_57.xml\n",
            "292  =  apple_58.xml\n",
            "293  =  apple_59.xml\n",
            "294  =  apple_6.xml\n",
            "295  =  apple_60.xml\n",
            "296  =  apple_61.xml\n",
            "297  =  apple_62.xml\n",
            "298  =  apple_63.xml\n",
            "299  =  apple_64.xml\n",
            "300  =  apple_65.xml\n",
            "301  =  apple_66.xml\n",
            "302  =  apple_67.xml\n",
            "303  =  apple_68.xml\n",
            "304  =  apple_69.xml\n",
            "305  =  apple_7.xml\n",
            "306  =  apple_70.xml\n",
            "307  =  apple_71.xml\n",
            "308  =  apple_72.xml\n",
            "309  =  apple_73.xml\n",
            "310  =  apple_74.xml\n",
            "311  =  apple_75.xml\n",
            "312  =  apple_76.xml\n",
            "313  =  apple_8.xml\n",
            "314  =  apple_9.xml\n",
            "315  =  banana_1.xml\n",
            "316  =  banana_10.xml\n",
            "317  =  banana_11.xml\n",
            "318  =  banana_12.xml\n",
            "319  =  banana_13.xml\n",
            "320  =  banana_14.xml\n",
            "321  =  banana_16.xml\n",
            "322  =  banana_17.xml\n",
            "323  =  banana_2.xml\n",
            "324  =  banana_20.xml\n",
            "325  =  banana_21.xml\n",
            "326  =  banana_22.xml\n",
            "327  =  banana_23.xml\n",
            "328  =  banana_24.xml\n",
            "329  =  banana_25.xml\n",
            "330  =  banana_26.xml\n",
            "331  =  banana_27.xml\n",
            "332  =  banana_28.xml\n",
            "333  =  banana_29.xml\n",
            "334  =  banana_3.xml\n",
            "335  =  banana_30.xml\n",
            "336  =  banana_31.xml\n",
            "337  =  banana_32.xml\n",
            "338  =  banana_33.xml\n",
            "339  =  banana_34.xml\n",
            "340  =  banana_35.xml\n",
            "341  =  banana_36.xml\n",
            "342  =  banana_37.xml\n",
            "343  =  banana_38.xml\n",
            "344  =  banana_39.xml\n",
            "345  =  banana_4.xml\n",
            "346  =  banana_40.xml\n",
            "347  =  banana_41.xml\n",
            "348  =  banana_42.xml\n",
            "349  =  banana_43.xml\n",
            "350  =  banana_44.xml\n",
            "351  =  banana_45.xml\n",
            "352  =  banana_46.xml\n",
            "353  =  banana_47.xml\n",
            "354  =  banana_48.xml\n",
            "355  =  banana_49.xml\n",
            "356  =  banana_5.xml\n",
            "357  =  banana_50.xml\n",
            "358  =  banana_51.xml\n",
            "359  =  banana_52.xml\n",
            "360  =  banana_53.xml\n",
            "361  =  banana_54.xml\n",
            "362  =  banana_55.xml\n",
            "363  =  banana_56.xml\n",
            "364  =  banana_57.xml\n",
            "365  =  banana_58.xml\n",
            "366  =  banana_59.xml\n",
            "367  =  banana_6.xml\n",
            "368  =  banana_60.xml\n",
            "369  =  banana_61.xml\n",
            "370  =  banana_62.xml\n",
            "371  =  banana_63.xml\n",
            "372  =  banana_64.xml\n",
            "373  =  banana_65.xml\n",
            "374  =  banana_66.xml\n",
            "375  =  banana_67.xml\n",
            "376  =  banana_68.xml\n",
            "377  =  banana_69.xml\n",
            "378  =  banana_7.xml\n",
            "379  =  banana_70.xml\n",
            "380  =  banana_71.xml\n",
            "381  =  banana_72.xml\n",
            "382  =  banana_73.xml\n",
            "383  =  banana_74.xml\n",
            "384  =  banana_75.xml\n",
            "385  =  banana_76.xml\n",
            "386  =  banana_8.xml\n",
            "387  =  orange_1.xml\n",
            "388  =  orange_11.xml\n",
            "389  =  orange_10.xml\n",
            "390  =  orange_12.xml\n",
            "391  =  orange_13.xml\n",
            "392  =  orange_14.xml\n",
            "393  =  orange_15.xml\n",
            "394  =  orange_16.xml\n",
            "395  =  orange_17.xml\n",
            "396  =  orange_18.xml\n",
            "397  =  orange_19.xml\n",
            "398  =  orange_2.xml\n",
            "399  =  orange_20.xml\n",
            "400  =  orange_21.xml\n",
            "401  =  orange_22.xml\n",
            "402  =  orange_23.xml\n",
            "403  =  orange_24.xml\n",
            "404  =  orange_25.xml\n",
            "405  =  orange_26.xml\n",
            "406  =  orange_27.xml\n",
            "407  =  orange_28.xml\n",
            "408  =  orange_29.xml\n",
            "409  =  orange_3.xml\n",
            "410  =  orange_30.xml\n",
            "411  =  orange_31.xml\n",
            "412  =  orange_32.xml\n",
            "413  =  orange_33.xml\n",
            "414  =  orange_34.xml\n",
            "415  =  orange_35.xml\n",
            "416  =  orange_36.xml\n",
            "417  =  orange_37.xml\n",
            "418  =  orange_38.xml\n",
            "419  =  orange_4.xml\n",
            "420  =  orange_40.xml\n",
            "421  =  orange_41.xml\n",
            "422  =  orange_42.xml\n",
            "423  =  orange_43.xml\n",
            "424  =  orange_44.xml\n",
            "425  =  orange_46.xml\n",
            "426  =  orange_47.xml\n",
            "427  =  orange_48.xml\n",
            "428  =  orange_49.xml\n",
            "429  =  orange_5.xml\n",
            "430  =  orange_50.xml\n",
            "431  =  orange_51.xml\n",
            "432  =  orange_52.xml\n",
            "433  =  orange_53.xml\n",
            "434  =  orange_54.xml\n",
            "435  =  orange_55.xml\n",
            "436  =  orange_56.xml\n",
            "437  =  orange_57.xml\n",
            "438  =  orange_58.xml\n",
            "439  =  orange_59.xml\n",
            "440  =  orange_6.xml\n",
            "441  =  orange_60.xml\n",
            "442  =  orange_61.xml\n",
            "443  =  orange_62.xml\n",
            "444  =  orange_63.xml\n",
            "445  =  orange_64.xml\n",
            "446  =  orange_67.xml\n",
            "447  =  orange_68.xml\n",
            "448  =  orange_69.xml\n",
            "449  =  orange_7.xml\n",
            "450  =  orange_70.xml\n",
            "451  =  orange_71.xml\n",
            "452  =  orange_72.xml\n",
            "453  =  orange_73.xml\n",
            "454  =  orange_74.xml\n",
            "455  =  orange_75.xml\n",
            "456  =  orange_76.xml\n",
            "457  =  orange_8.xml\n",
            "458  =  orange_9.xml\n",
            "459  =  mixed_20.xml\n",
            "460  =  mixed_1.xml\n",
            "461  =  mixed_10.xml\n",
            "462  =  mixed_11.xml\n",
            "463  =  mixed_12.xml\n",
            "464  =  mixed_13.xml\n",
            "465  =  mixed_14.xml\n",
            "466  =  mixed_15.xml\n",
            "467  =  mixed_16.xml\n",
            "468  =  mixed_17.xml\n",
            "469  =  mixed_18.xml\n",
            "470  =  mixed_19.xml\n",
            "471  =  mixed_2.xml\n",
            "472  =  mixed_3.xml\n",
            "473  =  mixed_4.xml\n",
            "474  =  mixed_5.xml\n",
            "475  =  mixed_6.xml\n",
            "476  =  mixed_7.xml\n",
            "477  =  mixed_8.xml\n",
            "478  =  mixed_9.xml\n",
            "479  =  banana_9.xml\n"
          ]
        }
      ]
    },
    {
      "cell_type": "code",
      "source": [
        "test_images = []\n",
        "test_labels = []\n",
        "shape = (200,200)\n",
        "test_path = '/content/drive/MyDrive/Final Project Dmml/test_zip/test'\n",
        "\n",
        "count=0\n",
        "for filename in os.listdir('/content/drive/MyDrive/Final Project Dmml/test_zip/test'):\n",
        "\n",
        "    print(count,' = ',filename)\n",
        "    if filename.split('.')[1] == 'jpg':\n",
        "        img = cv2.imread(os.path.join(test_path,filename))\n",
        "        \n",
        "        \n",
        "        test_labels.append(filename.split('_')[0])\n",
        "        \n",
        "        \n",
        "        img = cv2.resize(img,shape)\n",
        "        \n",
        "        test_images.append(img)\n",
        "    count+=1\n",
        "\n",
        "test_images = np.array(test_images)"
      ],
      "metadata": {
        "id": "UnReXbrESaV6",
        "colab": {
          "base_uri": "https://localhost:8080/"
        },
        "outputId": "c1aab4a1-3b3c-4de7-9b00-c7485e9d0ba7"
      },
      "execution_count": null,
      "outputs": [
        {
          "output_type": "stream",
          "name": "stdout",
          "text": [
            "0  =  apple_81.jpg\n",
            "1  =  apple_89.jpg\n",
            "2  =  apple_77.jpg\n",
            "3  =  apple_83.jpg\n",
            "4  =  apple_86.jpg\n",
            "5  =  apple_90.jpg\n",
            "6  =  apple_87.jpg\n",
            "7  =  apple_80.jpg\n",
            "8  =  apple_88.jpg\n",
            "9  =  apple_84.jpg\n",
            "10  =  apple_91.jpg\n",
            "11  =  apple_93.jpg\n",
            "12  =  apple_78.jpg\n",
            "13  =  apple_95.jpg\n",
            "14  =  apple_92.jpg\n",
            "15  =  apple_85.jpg\n",
            "16  =  apple_82.jpg\n",
            "17  =  apple_94.jpg\n",
            "18  =  apple_79.jpg\n",
            "19  =  orange_80.jpg\n",
            "20  =  orange_90.jpg\n",
            "21  =  orange_95.jpg\n",
            "22  =  orange_77.jpg\n",
            "23  =  orange_79.jpg\n",
            "24  =  orange_81.jpg\n",
            "25  =  orange_86.jpg\n",
            "26  =  orange_87.jpg\n",
            "27  =  orange_91.jpg\n",
            "28  =  orange_92.jpg\n",
            "29  =  orange_93.jpg\n",
            "30  =  orange_82.jpg\n",
            "31  =  orange_94.jpg\n",
            "32  =  orange_83.jpg\n",
            "33  =  banana_84.jpg\n",
            "34  =  banana_90.jpg\n",
            "35  =  banana_79.jpg\n",
            "36  =  banana_77.jpg\n",
            "37  =  banana_80.jpg\n",
            "38  =  banana_81.jpg\n",
            "39  =  banana_82.jpg\n",
            "40  =  banana_83.jpg\n",
            "41  =  banana_85.jpg\n",
            "42  =  banana_86.jpg\n",
            "43  =  banana_87.jpg\n",
            "44  =  banana_88.jpg\n",
            "45  =  banana_91.jpg\n",
            "46  =  banana_93.jpg\n",
            "47  =  banana_92.jpg\n",
            "48  =  banana_94.jpg\n",
            "49  =  banana_78.jpg\n",
            "50  =  banana_89.jpg\n",
            "51  =  orange_84.jpg\n",
            "52  =  orange_85.jpg\n",
            "53  =  orange_78.jpg\n",
            "54  =  orange_89.jpg\n",
            "55  =  mixed_21.jpg\n",
            "56  =  mixed_22.jpg\n",
            "57  =  mixed_23.jpg\n",
            "58  =  mixed_24.jpg\n",
            "59  =  mixed_25.jpg\n",
            "60  =  apple_77.xml\n",
            "61  =  apple_78.xml\n",
            "62  =  apple_79.xml\n",
            "63  =  apple_80.xml\n",
            "64  =  apple_81.xml\n",
            "65  =  apple_82.xml\n",
            "66  =  apple_83.xml\n",
            "67  =  apple_84.xml\n",
            "68  =  apple_85.xml\n",
            "69  =  apple_86.xml\n",
            "70  =  apple_87.xml\n",
            "71  =  apple_88.xml\n",
            "72  =  apple_89.xml\n",
            "73  =  apple_90.xml\n",
            "74  =  apple_91.xml\n",
            "75  =  apple_92.xml\n",
            "76  =  apple_93.xml\n",
            "77  =  apple_94.xml\n",
            "78  =  apple_95.xml\n",
            "79  =  banana_77.xml\n",
            "80  =  banana_78.xml\n",
            "81  =  banana_80.xml\n",
            "82  =  banana_79.xml\n",
            "83  =  banana_81.xml\n",
            "84  =  banana_82.xml\n",
            "85  =  banana_83.xml\n",
            "86  =  banana_84.xml\n",
            "87  =  banana_85.xml\n",
            "88  =  banana_86.xml\n",
            "89  =  banana_87.xml\n",
            "90  =  banana_88.xml\n",
            "91  =  banana_89.xml\n",
            "92  =  banana_90.xml\n",
            "93  =  banana_91.xml\n",
            "94  =  banana_92.xml\n",
            "95  =  banana_93.xml\n",
            "96  =  banana_94.xml\n",
            "97  =  orange_77.xml\n",
            "98  =  orange_78.xml\n",
            "99  =  orange_79.xml\n",
            "100  =  orange_80.xml\n",
            "101  =  orange_81.xml\n",
            "102  =  orange_82.xml\n",
            "103  =  orange_83.xml\n",
            "104  =  orange_84.xml\n",
            "105  =  orange_85.xml\n",
            "106  =  orange_86.xml\n",
            "107  =  orange_87.xml\n",
            "108  =  orange_89.xml\n",
            "109  =  orange_90.xml\n",
            "110  =  orange_91.xml\n",
            "111  =  orange_92.xml\n",
            "112  =  orange_93.xml\n",
            "113  =  orange_94.xml\n",
            "114  =  orange_95.xml\n",
            "115  =  mixed_21.xml\n",
            "116  =  mixed_22.xml\n",
            "117  =  mixed_23.xml\n",
            "118  =  mixed_24.xml\n",
            "119  =  mixed_25.xml\n"
          ]
        }
      ]
    },
    {
      "cell_type": "code",
      "source": [
        "print(train_labels[4])\n",
        "plt.imshow(train_images[4])"
      ],
      "metadata": {
        "id": "8BNpqipwSfsp",
        "colab": {
          "base_uri": "https://localhost:8080/",
          "height": 304
        },
        "outputId": "6fc0a6e1-ff2f-4689-dc4d-84187cde4e02"
      },
      "execution_count": null,
      "outputs": [
        {
          "output_type": "stream",
          "name": "stdout",
          "text": [
            "[1 0 0 0]\n"
          ]
        },
        {
          "output_type": "execute_result",
          "data": {
            "text/plain": [
              "<matplotlib.image.AxesImage at 0x7fbf90bea990>"
            ]
          },
          "metadata": {},
          "execution_count": 6
        },
        {
          "output_type": "display_data",
          "data": {
            "text/plain": [
              "<Figure size 432x288 with 1 Axes>"
            ],
            "image/png": "[encoded data removed]"
          },
          "metadata": {
            "needs_background": "light"
          }
        }
      ]
    },
    {
      "cell_type": "code",
      "source": [
        "print(train_labels[6])\n",
        "plt.imshow(train_images[6])"
      ],
      "metadata": {
        "id": "DDNCfTMRSk1B",
        "colab": {
          "base_uri": "https://localhost:8080/",
          "height": 304
        },
        "outputId": "a8a20bc9-bad0-478b-e16b-adb362b5823d"
      },
      "execution_count": null,
      "outputs": [
        {
          "output_type": "stream",
          "name": "stdout",
          "text": [
            "[1 0 0 0]\n"
          ]
        },
        {
          "output_type": "execute_result",
          "data": {
            "text/plain": [
              "<matplotlib.image.AxesImage at 0x7fbf906c5d10>"
            ]
          },
          "metadata": {},
          "execution_count": 7
        },
        {
          "output_type": "display_data",
          "data": {
            "text/plain": [
              "<Figure size 432x288 with 1 Axes>"
            ],
            "image/png": "[encoded data removed]"
          },
          "metadata": {
            "needs_background": "light"
          }
        }
      ]
    },
    {
      "cell_type": "code",
      "source": [
        "model= Sequential()\n",
        "model.add(Conv2D(kernel_size=(3,3), filters=32, activation='tanh', input_shape=(200,200,3,)))\n",
        "model.add(Conv2D(filters=30,kernel_size = (3,3),activation='tanh'))\n",
        "model.add(MaxPool2D(2,2))\n",
        "model.add(Conv2D(filters=30,kernel_size = (3,3),activation='tanh'))\n",
        "model.add(MaxPool2D(2,2))\n",
        "model.add(Conv2D(filters=30,kernel_size = (3,3),activation='tanh'))\n",
        "\n",
        "model.add(Flatten())\n",
        "\n",
        "model.add(Dense(20,activation='relu'))\n",
        "model.add(Dense(15,activation='relu'))\n",
        "model.add(Dense(4,activation = 'softmax'))\n",
        "    \n",
        "model.compile(\n",
        "              loss='categorical_crossentropy', \n",
        "              metrics=['acc'],\n",
        "              optimizer='adam'\n",
        "             )"
      ],
      "metadata": {
        "id": "0iklSSWMSvJR"
      },
      "execution_count": null,
      "outputs": []
    },
    {
      "cell_type": "code",
      "source": [
        "model.summary()"
      ],
      "metadata": {
        "id": "Va_cpPgWSwyJ",
        "colab": {
          "base_uri": "https://localhost:8080/"
        },
        "outputId": "1dfce563-b4e9-4892-e2a9-215c420a784f"
      },
      "execution_count": null,
      "outputs": [
        {
          "output_type": "stream",
          "name": "stdout",
          "text": [
            "Model: \"sequential\"\n",
            "_________________________________________________________________\n",
            " Layer (type)                Output Shape              Param #   \n",
            "=================================================================\n",
            " conv2d (Conv2D)             (None, 198, 198, 32)      896       \n",
            "                                                                 \n",
            " conv2d_1 (Conv2D)           (None, 196, 196, 30)      8670      \n",
            "                                                                 \n",
            " max_pooling2d (MaxPooling2D  (None, 98, 98, 30)       0         \n",
            " )                                                               \n",
            "                                                                 \n",
            " conv2d_2 (Conv2D)           (None, 96, 96, 30)        8130      \n",
            "                                                                 \n",
            " max_pooling2d_1 (MaxPooling  (None, 48, 48, 30)       0         \n",
            " 2D)                                                             \n",
            "                                                                 \n",
            " conv2d_3 (Conv2D)           (None, 46, 46, 30)        8130      \n",
            "                                                                 \n",
            " flatten (Flatten)           (None, 63480)             0         \n",
            "                                                                 \n",
            " dense (Dense)               (None, 20)                1269620   \n",
            "                                                                 \n",
            " dense_1 (Dense)             (None, 15)                315       \n",
            "                                                                 \n",
            " dense_2 (Dense)             (None, 4)                 64        \n",
            "                                                                 \n",
            "=================================================================\n",
            "Total params: 1,295,825\n",
            "Trainable params: 1,295,825\n",
            "Non-trainable params: 0\n",
            "_________________________________________________________________\n"
          ]
        }
      ]
    },
    {
      "cell_type": "code",
      "source": [
        "history = model.fit(x_train,y_train,epochs=50,batch_size=50,validation_data=(x_val,y_val))"
      ],
      "metadata": {
        "id": "t5MHtRP3Sy8C",
        "colab": {
          "base_uri": "https://localhost:8080/"
        },
        "outputId": "f945d7ba-8cbf-4134-b941-8ac016e529cc"
      },
      "execution_count": null,
      "outputs": [
        {
          "output_type": "stream",
          "name": "stdout",
          "text": [
            "Epoch 1/50\n",
            "4/4 [==============================] - 26s 6s/step - loss: 2.5289 - acc: 0.3278 - val_loss: 1.3403 - val_acc: 0.6167\n",
            "Epoch 2/50\n",
            "4/4 [==============================] - 22s 6s/step - loss: 3.5299 - acc: 0.3444 - val_loss: 1.5698 - val_acc: 0.4667\n",
            "Epoch 3/50\n",
            "4/4 [==============================] - 23s 6s/step - loss: 1.5725 - acc: 0.3889 - val_loss: 1.2157 - val_acc: 0.5000\n",
            "Epoch 4/50\n",
            "4/4 [==============================] - 24s 6s/step - loss: 1.1305 - acc: 0.5444 - val_loss: 1.2241 - val_acc: 0.5500\n",
            "Epoch 5/50\n",
            "4/4 [==============================] - 25s 6s/step - loss: 1.2977 - acc: 0.5556 - val_loss: 1.1106 - val_acc: 0.5500\n",
            "Epoch 6/50\n",
            "4/4 [==============================] - 23s 6s/step - loss: 0.9076 - acc: 0.5833 - val_loss: 0.9504 - val_acc: 0.6333\n",
            "Epoch 7/50\n",
            "4/4 [==============================] - 23s 6s/step - loss: 0.8619 - acc: 0.6778 - val_loss: 1.1833 - val_acc: 0.5167\n",
            "Epoch 8/50\n",
            "4/4 [==============================] - 23s 6s/step - loss: 0.8823 - acc: 0.6222 - val_loss: 1.0537 - val_acc: 0.5500\n",
            "Epoch 9/50\n",
            "4/4 [==============================] - 23s 6s/step - loss: 0.8833 - acc: 0.5444 - val_loss: 0.9830 - val_acc: 0.4500\n",
            "Epoch 10/50\n",
            "4/4 [==============================] - 23s 6s/step - loss: 0.7780 - acc: 0.6000 - val_loss: 0.8560 - val_acc: 0.6167\n",
            "Epoch 11/50\n",
            "4/4 [==============================] - 23s 6s/step - loss: 0.7396 - acc: 0.6667 - val_loss: 0.6700 - val_acc: 0.7667\n",
            "Epoch 12/50\n",
            "4/4 [==============================] - 23s 6s/step - loss: 0.5203 - acc: 0.7722 - val_loss: 0.6741 - val_acc: 0.7667\n",
            "Epoch 13/50\n",
            "4/4 [==============================] - 23s 6s/step - loss: 0.4590 - acc: 0.8333 - val_loss: 0.6350 - val_acc: 0.7667\n",
            "Epoch 14/50\n",
            "4/4 [==============================] - 23s 6s/step - loss: 0.4074 - acc: 0.8444 - val_loss: 0.5774 - val_acc: 0.7333\n",
            "Epoch 15/50\n",
            "4/4 [==============================] - 23s 6s/step - loss: 0.3639 - acc: 0.8833 - val_loss: 0.5817 - val_acc: 0.7833\n",
            "Epoch 16/50\n",
            "4/4 [==============================] - 25s 6s/step - loss: 0.3245 - acc: 0.8944 - val_loss: 0.5374 - val_acc: 0.7833\n",
            "Epoch 17/50\n",
            "4/4 [==============================] - 23s 6s/step - loss: 0.3041 - acc: 0.9056 - val_loss: 0.5627 - val_acc: 0.7833\n",
            "Epoch 18/50\n",
            "4/4 [==============================] - 23s 6s/step - loss: 0.3044 - acc: 0.8833 - val_loss: 0.4324 - val_acc: 0.8333\n",
            "Epoch 19/50\n",
            "4/4 [==============================] - 23s 6s/step - loss: 0.2460 - acc: 0.9278 - val_loss: 0.4369 - val_acc: 0.8333\n",
            "Epoch 20/50\n",
            "4/4 [==============================] - 23s 6s/step - loss: 0.2234 - acc: 0.9222 - val_loss: 0.4245 - val_acc: 0.8500\n",
            "Epoch 21/50\n",
            "4/4 [==============================] - 23s 6s/step - loss: 0.2214 - acc: 0.9222 - val_loss: 0.4266 - val_acc: 0.8000\n",
            "Epoch 22/50\n",
            "4/4 [==============================] - 23s 6s/step - loss: 0.2325 - acc: 0.9167 - val_loss: 0.4355 - val_acc: 0.8167\n",
            "Epoch 23/50\n",
            "4/4 [==============================] - 23s 6s/step - loss: 0.2544 - acc: 0.9333 - val_loss: 0.4607 - val_acc: 0.8333\n",
            "Epoch 24/50\n",
            "4/4 [==============================] - 23s 6s/step - loss: 0.2109 - acc: 0.9333 - val_loss: 0.4292 - val_acc: 0.8500\n",
            "Epoch 25/50\n",
            "4/4 [==============================] - 23s 6s/step - loss: 0.1623 - acc: 0.9389 - val_loss: 0.4441 - val_acc: 0.8500\n",
            "Epoch 26/50\n",
            "4/4 [==============================] - 22s 6s/step - loss: 0.1314 - acc: 0.9556 - val_loss: 0.4154 - val_acc: 0.8333\n",
            "Epoch 27/50\n",
            "4/4 [==============================] - 22s 6s/step - loss: 0.0959 - acc: 0.9778 - val_loss: 0.4442 - val_acc: 0.8500\n",
            "Epoch 28/50\n",
            "4/4 [==============================] - 24s 6s/step - loss: 0.1030 - acc: 0.9722 - val_loss: 0.3885 - val_acc: 0.8667\n",
            "Epoch 29/50\n",
            "4/4 [==============================] - 22s 6s/step - loss: 0.0722 - acc: 0.9889 - val_loss: 0.3483 - val_acc: 0.8667\n",
            "Epoch 30/50\n",
            "4/4 [==============================] - 22s 6s/step - loss: 0.0785 - acc: 0.9722 - val_loss: 0.3657 - val_acc: 0.8500\n",
            "Epoch 31/50\n",
            "4/4 [==============================] - 23s 6s/step - loss: 0.0655 - acc: 0.9889 - val_loss: 0.4157 - val_acc: 0.8333\n",
            "Epoch 32/50\n",
            "4/4 [==============================] - 22s 6s/step - loss: 0.0605 - acc: 0.9944 - val_loss: 0.3839 - val_acc: 0.8833\n",
            "Epoch 33/50\n",
            "4/4 [==============================] - 22s 5s/step - loss: 0.0533 - acc: 0.9944 - val_loss: 0.3892 - val_acc: 0.8500\n",
            "Epoch 34/50\n",
            "4/4 [==============================] - 22s 6s/step - loss: 0.0483 - acc: 0.9889 - val_loss: 0.3874 - val_acc: 0.8667\n",
            "Epoch 35/50\n",
            "4/4 [==============================] - 22s 6s/step - loss: 0.0413 - acc: 0.9944 - val_loss: 0.3477 - val_acc: 0.8667\n",
            "Epoch 36/50\n",
            "4/4 [==============================] - 22s 6s/step - loss: 0.0381 - acc: 0.9944 - val_loss: 0.3365 - val_acc: 0.8667\n",
            "Epoch 37/50\n",
            "4/4 [==============================] - 22s 5s/step - loss: 0.0344 - acc: 0.9944 - val_loss: 0.3510 - val_acc: 0.8500\n",
            "Epoch 38/50\n",
            "4/4 [==============================] - 22s 5s/step - loss: 0.0312 - acc: 0.9944 - val_loss: 0.3484 - val_acc: 0.8667\n",
            "Epoch 39/50\n",
            "4/4 [==============================] - 24s 6s/step - loss: 0.0285 - acc: 0.9944 - val_loss: 0.3447 - val_acc: 0.8667\n",
            "Epoch 40/50\n",
            "4/4 [==============================] - 22s 6s/step - loss: 0.0256 - acc: 1.0000 - val_loss: 0.3338 - val_acc: 0.8667\n",
            "Epoch 41/50\n",
            "4/4 [==============================] - 22s 6s/step - loss: 0.0246 - acc: 1.0000 - val_loss: 0.3527 - val_acc: 0.8500\n",
            "Epoch 42/50\n",
            "4/4 [==============================] - 22s 6s/step - loss: 0.0231 - acc: 1.0000 - val_loss: 0.3628 - val_acc: 0.8500\n",
            "Epoch 43/50\n",
            "4/4 [==============================] - 22s 6s/step - loss: 0.0208 - acc: 1.0000 - val_loss: 0.3501 - val_acc: 0.8500\n",
            "Epoch 44/50\n",
            "4/4 [==============================] - 22s 6s/step - loss: 0.0193 - acc: 1.0000 - val_loss: 0.3445 - val_acc: 0.8500\n",
            "Epoch 45/50\n",
            "4/4 [==============================] - 22s 6s/step - loss: 0.0179 - acc: 1.0000 - val_loss: 0.3597 - val_acc: 0.8500\n",
            "Epoch 46/50\n",
            "4/4 [==============================] - 22s 6s/step - loss: 0.0169 - acc: 1.0000 - val_loss: 0.3640 - val_acc: 0.8500\n",
            "Epoch 47/50\n",
            "4/4 [==============================] - 23s 6s/step - loss: 0.0158 - acc: 1.0000 - val_loss: 0.3697 - val_acc: 0.8500\n",
            "Epoch 48/50\n",
            "4/4 [==============================] - 23s 6s/step - loss: 0.0147 - acc: 1.0000 - val_loss: 0.3652 - val_acc: 0.8500\n",
            "Epoch 49/50\n",
            "4/4 [==============================] - 23s 6s/step - loss: 0.0148 - acc: 1.0000 - val_loss: 0.3619 - val_acc: 0.8500\n",
            "Epoch 50/50\n",
            "4/4 [==============================] - 25s 6s/step - loss: 0.0133 - acc: 1.0000 - val_loss: 0.3867 - val_acc: 0.8500\n"
          ]
        }
      ]
    },
    {
      "cell_type": "code",
      "source": [
        "model.save('path/to/location')"
      ],
      "metadata": {
        "colab": {
          "base_uri": "https://localhost:8080/"
        },
        "id": "KQ5fxhPwCCVa",
        "outputId": "c6b287c9-e16c-469a-a4d4-c445b83f6fa5"
      },
      "execution_count": null,
      "outputs": [
        {
          "output_type": "stream",
          "name": "stdout",
          "text": [
            "INFO:tensorflow:Assets written to: path/to/location/assets\n"
          ]
        }
      ]
    },
    {
      "cell_type": "code",
      "source": [
        "from tensorflow import keras\n",
        "model = keras.models.load_model('path/to/location')"
      ],
      "metadata": {
        "id": "5LrrgCG3CUPK"
      },
      "execution_count": null,
      "outputs": []
    },
    {
      "cell_type": "code",
      "source": [
        "plt.plot(history.history['acc'])\n",
        "plt.plot(history.history['val_acc'])\n",
        "plt.title('model accuracy')\n",
        "plt.ylabel('accuracy')\n",
        "plt.xlabel('epoch')\n",
        "plt.legend(['train', 'test'], loc='upper left')\n",
        "plt.show()"
      ],
      "metadata": {
        "id": "R04GMVVxS2V6",
        "colab": {
          "base_uri": "https://localhost:8080/",
          "height": 295
        },
        "outputId": "e4a067b4-598e-4f5b-aeef-98b188dd313a"
      },
      "execution_count": null,
      "outputs": [
        {
          "output_type": "display_data",
          "data": {
            "text/plain": [
              "<Figure size 432x288 with 1 Axes>"
            ],
            "image/png": "[encoded data removed]"
          },
          "metadata": {
            "needs_background": "light"
          }
        }
      ]
    },
    {
      "cell_type": "code",
      "source": [
        "plt.plot(history.history['loss'])\n",
        "plt.plot(history.history['val_loss'])\n",
        "plt.title('model loss')\n",
        "plt.ylabel('loss')\n",
        "plt.xlabel('epoch')\n",
        "plt.legend(['train', 'test'], loc='upper left')\n",
        "plt.show()"
      ],
      "metadata": {
        "id": "_H3BuvL9S5Ea",
        "colab": {
          "base_uri": "https://localhost:8080/",
          "height": 295
        },
        "outputId": "9c10ab33-499e-4240-cbc0-dbb219199e9b"
      },
      "execution_count": null,
      "outputs": [
        {
          "output_type": "display_data",
          "data": {
            "text/plain": [
              "<Figure size 432x288 with 1 Axes>"
            ],
            "image/png": "[encoded data removed]"
          },
          "metadata": {
            "needs_background": "light"
          }
        }
      ]
    },
    {
      "cell_type": "code",
      "source": [
        "evaluate = model.evaluate(x_val,y_val)\n",
        "print(evaluate)"
      ],
      "metadata": {
        "id": "-VMI6ecQS6xa",
        "colab": {
          "base_uri": "https://localhost:8080/"
        },
        "outputId": "097a34b5-e551-4a1c-cf38-3cf83ba11f91"
      },
      "execution_count": null,
      "outputs": [
        {
          "output_type": "stream",
          "name": "stdout",
          "text": [
            "2/2 [==============================] - 2s 827ms/step - loss: 0.3867 - acc: 0.8500\n",
            "[0.3866676092147827, 0.8500000238418579]\n"
          ]
        }
      ]
    },
    {
      "cell_type": "code",
      "source": [
        "checkImage = test_images[23:24]\n",
        "checklabel = test_labels[23:24]\n",
        "\n",
        "predict = model.predict(np.array(checkImage))\n",
        "\n",
        "output = { 0:'apple',1:'banana',2:'mixed',3:'orange'}\n",
        "\n",
        "print(\"Actual :- \",checklabel)\n",
        "print(\"Predicted :- \",output[np.argmax(predict)])"
      ],
      "metadata": {
        "id": "JT4YajsyS8p5",
        "colab": {
          "base_uri": "https://localhost:8080/"
        },
        "outputId": "a48b70d5-82ef-4d2d-a376-e224dc4072b8"
      },
      "execution_count": 26,
      "outputs": [
        {
          "output_type": "stream",
          "name": "stdout",
          "text": [
            "Actual :-  ['orange']\n",
            "Predicted :-  orange\n"
          ]
        }
      ]
    }
  ]
}